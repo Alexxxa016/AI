{
  "nbformat": 4,
  "nbformat_minor": 0,
  "metadata": {
    "colab": {
      "provenance": [],
      "collapsed_sections": [
        "ntpWgHFQfmrH",
        "c5GgoLojfxYt",
        "VA2qYu5Rhtcw",
        "k_AACO6Nj6VE",
        "HrIJ6KzRj6Mw",
        "L9OQloatbG23",
        "2lmVBtjEbpSl",
        "42wBZk-MqAnC",
        "0Hg5q3fWqdm0"
      ],
      "authorship_tag": "ABX9TyOJEFlQY0f7tArtDwfUBZB/",
      "include_colab_link": true
    },
    "kernelspec": {
      "name": "python3",
      "display_name": "Python 3"
    },
    "language_info": {
      "name": "python"
    }
  },
  "cells": [
    {
      "cell_type": "markdown",
      "metadata": {
        "id": "view-in-github",
        "colab_type": "text"
      },
      "source": [
        "<a href=\"https://colab.research.google.com/github/Alexxxa016/AI/blob/main/SearchTreeCheckrs.ipynb\" target=\"_parent\"><img src=\"https://colab.research.google.com/assets/colab-badge.svg\" alt=\"Open In Colab\"/></a>"
      ]
    },
    {
      "cell_type": "markdown",
      "source": [
        "# SearchTree checkers Endgame"
      ],
      "metadata": {
        "id": "ntpWgHFQfmrH"
      }
    },
    {
      "cell_type": "markdown",
      "source": [
        "### Description of Game\n",
        "\n",
        "This is an endgame scenario for checkers on an 8×8 board. The program uses a CurrentBoard class to manage the board state and move history, and it includes an all_moves function to generate all legal moves. A search tree is built using a minimax algorithm with optional alpha‑beta pruning guided by a heuristic evaluation function that factors in material, mobility, and positioning. The game runs computer‑vs‑computer."
      ],
      "metadata": {
        "id": "QYUPziubfgZm"
      }
    },
    {
      "cell_type": "markdown",
      "source": [
        "# Pre- current board code\n",
        "###(attempts of board creating, parsing, and imports)"
      ],
      "metadata": {
        "id": "c5GgoLojfxYt"
      }
    },
    {
      "cell_type": "code",
      "source": [
        "#########################################################################\n",
        "              # Imports and Defining Bounds\n",
        "#########################################################################\n",
        "import copy\n",
        "\n",
        "def in_bounds(r, c):\n",
        "    return 0 <= r < 8 and 0 <= c < 8\n",
        "\n",
        "def deep_copy_board(board):\n",
        "    return copy.deepcopy(board)"
      ],
      "metadata": {
        "id": "2lILykLAcpvd"
      },
      "execution_count": 3,
      "outputs": []
    },
    {
      "cell_type": "code",
      "execution_count": 5,
      "metadata": {
        "colab": {
          "base_uri": "https://localhost:8080/"
        },
        "id": "io9DDFK-ZmXU",
        "outputId": "d8f77e3e-fc19-40c1-ead5-b967cba8e44b"
      },
      "outputs": [
        {
          "output_type": "stream",
          "name": "stdout",
          "text": [
            "   a b c d e f g h\n",
            "0  . . . . . . . .\n",
            "1  . . . . . . . .\n",
            "2  . . . . . . . .\n",
            "3  . . . . . . . .\n",
            "4  . . . . . . . .\n",
            "5  . . . . . . . .\n",
            "6  . . . . . . . .\n",
            "7  . . . . . . . .\n",
            "\n"
          ]
        }
      ],
      "source": [
        "#########################################################################\n",
        "              # Empty board visualisation\n",
        "#########################################################################\n",
        "\n",
        "def empty_board():\n",
        "    board = []\n",
        "    for row in range(8):\n",
        "        board.append([\".\"] * 8)\n",
        "    return board\n",
        "\n",
        "def print_board(board):\n",
        "    # Column labels a-h\n",
        "    col_labels = \"   \" + \" \".join(chr(c) for c in range(ord('a'), ord('h')+1))\n",
        "    print(col_labels)\n",
        "    for row in range(8):\n",
        "        print(f\"{row}  \" + \" \".join(board[row]))\n",
        "    print()\n",
        "\n",
        "board = empty_board()\n",
        "print_board(board)\n"
      ]
    },
    {
      "cell_type": "code",
      "source": [
        "#########################################################################\n",
        "     # Empty board but (\".\") are dark and (\" \")are light squares\n",
        "#########################################################################\n",
        "\n",
        "def checkers_board():\n",
        "    board = []\n",
        "    for row in range(8):\n",
        "        row_list = []\n",
        "        for col in range(8):\n",
        "            if (row + col) % 2 == 1:\n",
        "                row_list.append(\".\")\n",
        "            else:\n",
        "                row_list.append(\" \")\n",
        "        board.append(row_list)\n",
        "    return board\n",
        "#8x8 checkers board with playable dark squares (\".\") and non-playable light squares (\" \").\n",
        "def print_board(board):\n",
        "    col_labels = \"   \" + \" \".join(chr(c) for c in range(ord('a'), ord('h')+1))\n",
        "    print(col_labels)\n",
        "    for row in range(8):\n",
        "        print(f\"{row}  \" + \" \".join(board[row]))\n",
        "    print()\n",
        "\n",
        "board = checkers_board()\n",
        "print_board(board)\n"
      ],
      "metadata": {
        "colab": {
          "base_uri": "https://localhost:8080/"
        },
        "id": "jUUYsCuaaKQ-",
        "outputId": "4bd1219c-3cc3-4c2a-c608-a7028fe7fd0f"
      },
      "execution_count": 6,
      "outputs": [
        {
          "output_type": "stream",
          "name": "stdout",
          "text": [
            "   a b c d e f g h\n",
            "0    .   .   .   .\n",
            "1  .   .   .   .  \n",
            "2    .   .   .   .\n",
            "3  .   .   .   .  \n",
            "4    .   .   .   .\n",
            "5  .   .   .   .  \n",
            "6    .   .   .   .\n",
            "7  .   .   .   .  \n",
            "\n"
          ]
        }
      ]
    },
    {
      "cell_type": "code",
      "source": [
        "#########################################################################\n",
        "        #Parsing positions for easier navigation through board\n",
        "#########################################################################\n",
        "\n",
        "\n",
        "# Convert a string like \"a3\" to board coordinates (row, col)\n",
        "def parse_position(pos):\n",
        "\n",
        "  pos = pos.strip().lower()\n",
        "  rowpos = \"\"\n",
        "  colpos = \"\"\n",
        "\n",
        "  for char in pos:\n",
        "    if char.isdigit():\n",
        "      rowpos += char\n",
        "    elif char.isalpha():\n",
        "      colpos += char\n",
        "  if rowpos == \"\" or colpos == \"\":\n",
        "    raise ValueError(\"Invalid position format\")\n",
        "  row = int(rowpos)\n",
        "  col = ord(colpos[0]) - ord('a')\n",
        "  return row, col\n",
        "\n",
        "\n"
      ],
      "metadata": {
        "id": "mU5copfseQJI"
      },
      "execution_count": 7,
      "outputs": []
    },
    {
      "cell_type": "code",
      "source": [
        "print(parse_position(\"2f\"))  #(2, 5)\n",
        "print(parse_position(\"4c\"))  #(4, 2)\n",
        "print(parse_position(\"6h\"))  #(6, 7)\n",
        "print(parse_position(\"4d\"))  #(4, 3)\n",
        "print(parse_position(\"0a\"))  #(0, 0)\n",
        "print(parse_position(\"7b\"))  #(7, 1)"
      ],
      "metadata": {
        "colab": {
          "base_uri": "https://localhost:8080/"
        },
        "id": "vOAm1mdrfWTd",
        "outputId": "3da3861f-5c9e-4d6d-a6c3-77c612ed9d05"
      },
      "execution_count": 8,
      "outputs": [
        {
          "output_type": "stream",
          "name": "stdout",
          "text": [
            "(2, 5)\n",
            "(4, 2)\n",
            "(6, 7)\n",
            "(4, 3)\n",
            "(0, 0)\n",
            "(7, 1)\n"
          ]
        }
      ]
    },
    {
      "cell_type": "markdown",
      "source": [
        "#CurrentBoard"
      ],
      "metadata": {
        "id": "VA2qYu5Rhtcw"
      }
    },
    {
      "cell_type": "markdown",
      "source": [
        "\n",
        "This code sets up an endgame scenario for checkers using an 8×8 board. It creates a CurrentBoard class that initializes the board (with dark squares as playable areas), displays it, and tracks move history to avoid repeats. The class includes functions to generate all legal moves for each piece—both normal moves and captures"
      ],
      "metadata": {
        "id": "CZZh-0jpibzI"
      }
    },
    {
      "cell_type": "code",
      "source": [
        "#########################################################################\n",
        "                       # CurrentBoard Class\n",
        "#########################################################################\n",
        "\n",
        "\n",
        "#board state and history of moves to track repeating positions\n",
        "class CurrentBoard:\n",
        "    def __init__(self, board=None, history=None):\n",
        "        if board is None:\n",
        "            self.board = self.end_game_board()\n",
        "        else:\n",
        "            self.board = board\n",
        "        if history is None:\n",
        "            self.history = []\n",
        "        else:\n",
        "            self.history = history\n",
        "#endgame board setup\n",
        "    def end_game_board(self):\n",
        "        board = []\n",
        "        for row in range(8):\n",
        "            row_list = []\n",
        "            for col in range(8):\n",
        "                if (row + col) % 2 == 1:\n",
        "                    row_list.append(\".\")\n",
        "                else:\n",
        "                    row_list.append(\" \")\n",
        "            board.append(row_list)\n",
        "        board[5][4] = \"b\"\n",
        "        board[3][4] = \"B\"\n",
        "        board[3][0] = \"W\"\n",
        "        #board[3][0] = \"W\"\n",
        "        #board[2][5] = \"b\"\n",
        "        #board[4][3] = \"B\"\n",
        "        return board\n",
        "\n",
        "    def display(self):\n",
        "        col_labels = \"   \" + \" \".join(chr(c) for c in range(ord('a'), ord('h') + 1))\n",
        "        print(col_labels)\n",
        "        for row in range(8):\n",
        "            print(f\"{row}  \" + \" \".join(self.board[row]))\n",
        "        print()\n",
        "\n",
        "    def state_of_board(self):\n",
        "        white_moves = len(self.all_moves(\"w\"))\n",
        "        black_moves = len(self.all_moves(\"b\"))\n",
        "        if white_moves == 0:\n",
        "            return \"black\"\n",
        "        if black_moves == 0:\n",
        "            return \"white\"\n",
        "        return \"Unfinished\"\n",
        "\n",
        "    def opponent(self, piece):\n",
        "        return \"b\" if piece.lower() == \"w\" else \"w\"\n",
        "#piece movement\n",
        "    def piece_moves(self, piece):\n",
        "        if piece in (\"B\", \"W\"):\n",
        "            return [(-1, -1), (-1, 1), (1, -1), (1, 1)]\n",
        "        elif piece == \"b\":\n",
        "            return [(1, -1), (1, 1)]\n",
        "        elif piece == \"w\":\n",
        "            return [(-1, -1), (-1, 1)]\n",
        "        return []\n",
        "\n",
        "\n",
        "        # This function generates all legal moves for the piece at position (r, c).\n",
        "    # It checks normal moves and capture moves. If a capture is possible, that move is prioritized\n",
        "    def generate_moves(self, r, c):\n",
        "        piece = self.board[r][c]\n",
        "        if piece not in (\"b\", \"B\", \"w\", \"W\"):\n",
        "            return []\n",
        "        moves = []\n",
        "        captures = []\n",
        "        directions = self.piece_moves(piece)\n",
        "        opp = self.opponent(piece)\n",
        "        for dr, dc in directions:\n",
        "            new_r, new_c = r + dr, c + dc\n",
        "            if in_bounds(new_r, new_c):\n",
        "                if self.board[new_r][new_c] == \".\":\n",
        "                    moves.append((new_r, new_c, None))\n",
        "                else:\n",
        "                    target = self.board[new_r][new_c]\n",
        "                    if target.lower() == opp:\n",
        "                        cap_r, cap_c = r + 2*dr, c + 2*dc\n",
        "                        if in_bounds(cap_r, cap_c) and self.board[cap_r][cap_c] == \".\":\n",
        "                            captures.append((cap_r, cap_c, (new_r, new_c)))\n",
        "        return captures if captures else moves\n",
        "    CurrentBoard.generate_moves = generate_moves\n",
        "        #all possible moves\n",
        "        #produce list\n",
        "        # returns a list of new board states resulting from each move.\n",
        "    def all_moves(self, player):\n",
        "        capture_moves = []\n",
        "        non_capture_moves = []\n",
        "        for r in range(8):\n",
        "            for c in range(8):\n",
        "                if self.board[r][c].lower() == player:\n",
        "                    moves = self.generate_moves(r, c)\n",
        "                    for move in moves:\n",
        "                        if move[2] is not None:\n",
        "                            capture_moves.append(((r, c), move))\n",
        "                        else:\n",
        "                            non_capture_moves.append(((r, c), move))\n",
        "                            #mandatory capture rule\n",
        "        moves = capture_moves if capture_moves else non_capture_moves\n",
        "        boards = []\n",
        "        for (r, c), move in moves:\n",
        "            new_board = deep_copy_board(self.board)\n",
        "            piece = new_board[r][c]\n",
        "            new_board[r][c] = \".\"\n",
        "            dest_r, dest_c, capture = move\n",
        "            # Promote pawn to king if it reaches the last row.\n",
        "            if capture is not None:\n",
        "                cap_r, cap_c = capture\n",
        "                new_board[cap_r][cap_c] = \".\"\n",
        "            if piece == \"b\" and dest_r == 7:\n",
        "                piece = \"B\"\n",
        "            elif piece == \"w\" and dest_r == 0:\n",
        "                piece = \"W\"\n",
        "            new_board[dest_r][dest_c] = piece\n",
        "            new_history = self.history + [self.board]\n",
        "            boards.append(CurrentBoard(new_board, history=new_history))\n",
        "        return boards\n",
        "\n"
      ],
      "metadata": {
        "id": "bhzZd6k4bG0m"
      },
      "execution_count": 15,
      "outputs": []
    },
    {
      "cell_type": "code",
      "source": [
        "#########################################################################\n",
        "              # Displaying the board setup im going with\n",
        "#########################################################################\n",
        "\n",
        "cb = CurrentBoard()\n",
        "cb.display()"
      ],
      "metadata": {
        "colab": {
          "base_uri": "https://localhost:8080/"
        },
        "id": "YEXkKairewXd",
        "outputId": "d1b67379-0080-464c-da4e-52fc19785410"
      },
      "execution_count": 16,
      "outputs": [
        {
          "output_type": "stream",
          "name": "stdout",
          "text": [
            "   a b c d e f g h\n",
            "0    .   .   .   .\n",
            "1  .   .   .   .  \n",
            "2    .   .   .   .\n",
            "3  W   .   B   .  \n",
            "4    .   .   .   .\n",
            "5  .   .   b   .  \n",
            "6    .   .   .   .\n",
            "7  .   .   .   .  \n",
            "\n"
          ]
        }
      ]
    },
    {
      "cell_type": "code",
      "source": [
        "#########################################################################\n",
        "              # All legal moves for Black\n",
        "#########################################################################\n",
        "cb = CurrentBoard()\n",
        "cb.display()\n",
        "print(\"Legal moves for Black:\")\n",
        "for new_state in cb.all_moves(\"b\"):\n",
        "    new_state.display()\n",
        "\n"
      ],
      "metadata": {
        "colab": {
          "base_uri": "https://localhost:8080/"
        },
        "id": "oddofPfckjhq",
        "outputId": "17696456-7220-4341-ef77-eeb53c33e532"
      },
      "execution_count": 17,
      "outputs": [
        {
          "output_type": "stream",
          "name": "stdout",
          "text": [
            "   a b c d e f g h\n",
            "0    .   .   .   .\n",
            "1  .   .   .   .  \n",
            "2    .   .   .   .\n",
            "3  W   .   B   .  \n",
            "4    .   .   .   .\n",
            "5  .   .   b   .  \n",
            "6    .   .   .   .\n",
            "7  .   .   .   .  \n",
            "\n",
            "Legal moves for Black:\n",
            "   a b c d e f g h\n",
            "0    .   .   .   .\n",
            "1  .   .   .   .  \n",
            "2    .   B   .   .\n",
            "3  W   .   .   .  \n",
            "4    .   .   .   .\n",
            "5  .   .   b   .  \n",
            "6    .   .   .   .\n",
            "7  .   .   .   .  \n",
            "\n",
            "   a b c d e f g h\n",
            "0    .   .   .   .\n",
            "1  .   .   .   .  \n",
            "2    .   .   B   .\n",
            "3  W   .   .   .  \n",
            "4    .   .   .   .\n",
            "5  .   .   b   .  \n",
            "6    .   .   .   .\n",
            "7  .   .   .   .  \n",
            "\n",
            "   a b c d e f g h\n",
            "0    .   .   .   .\n",
            "1  .   .   .   .  \n",
            "2    .   .   .   .\n",
            "3  W   .   .   .  \n",
            "4    .   B   .   .\n",
            "5  .   .   b   .  \n",
            "6    .   .   .   .\n",
            "7  .   .   .   .  \n",
            "\n",
            "   a b c d e f g h\n",
            "0    .   .   .   .\n",
            "1  .   .   .   .  \n",
            "2    .   .   .   .\n",
            "3  W   .   .   .  \n",
            "4    .   .   B   .\n",
            "5  .   .   b   .  \n",
            "6    .   .   .   .\n",
            "7  .   .   .   .  \n",
            "\n",
            "   a b c d e f g h\n",
            "0    .   .   .   .\n",
            "1  .   .   .   .  \n",
            "2    .   .   .   .\n",
            "3  W   .   B   .  \n",
            "4    .   .   .   .\n",
            "5  .   .   .   .  \n",
            "6    .   b   .   .\n",
            "7  .   .   .   .  \n",
            "\n",
            "   a b c d e f g h\n",
            "0    .   .   .   .\n",
            "1  .   .   .   .  \n",
            "2    .   .   .   .\n",
            "3  W   .   B   .  \n",
            "4    .   .   .   .\n",
            "5  .   .   .   .  \n",
            "6    .   .   b   .\n",
            "7  .   .   .   .  \n",
            "\n"
          ]
        }
      ]
    },
    {
      "cell_type": "code",
      "source": [
        "#########################################################################\n",
        "              # All legal moves for white\n",
        "#########################################################################\n",
        "cb = CurrentBoard()\n",
        "cb.display()\n",
        "print(\"Legal moves for White:\")\n",
        "for new_state in cb.all_moves(\"w\"):\n",
        "    new_state.display()\n"
      ],
      "metadata": {
        "colab": {
          "base_uri": "https://localhost:8080/"
        },
        "id": "c0rSUEuFkrOo",
        "outputId": "7b548bfb-8680-4b83-ea70-9e6867bc8706"
      },
      "execution_count": 18,
      "outputs": [
        {
          "output_type": "stream",
          "name": "stdout",
          "text": [
            "   a b c d e f g h\n",
            "0    .   .   .   .\n",
            "1  .   .   .   .  \n",
            "2    .   .   .   .\n",
            "3  W   .   B   .  \n",
            "4    .   .   .   .\n",
            "5  .   .   b   .  \n",
            "6    .   .   .   .\n",
            "7  .   .   .   .  \n",
            "\n",
            "Legal moves for White:\n",
            "   a b c d e f g h\n",
            "0    .   .   .   .\n",
            "1  .   .   .   .  \n",
            "2    W   .   .   .\n",
            "3  .   .   B   .  \n",
            "4    .   .   .   .\n",
            "5  .   .   b   .  \n",
            "6    .   .   .   .\n",
            "7  .   .   .   .  \n",
            "\n",
            "   a b c d e f g h\n",
            "0    .   .   .   .\n",
            "1  .   .   .   .  \n",
            "2    .   .   .   .\n",
            "3  .   .   B   .  \n",
            "4    W   .   .   .\n",
            "5  .   .   b   .  \n",
            "6    .   .   .   .\n",
            "7  .   .   .   .  \n",
            "\n"
          ]
        }
      ]
    },
    {
      "cell_type": "markdown",
      "source": [],
      "metadata": {
        "id": "T6s7_jeiac6i"
      }
    },
    {
      "cell_type": "markdown",
      "source": [
        "#Evaluation function"
      ],
      "metadata": {
        "id": "k_AACO6Nj6VE"
      }
    },
    {
      "cell_type": "markdown",
      "source": [
        "###Evaluation Evolution"
      ],
      "metadata": {
        "id": "HrIJ6KzRj6Mw"
      }
    },
    {
      "cell_type": "code",
      "source": [
        "#########################################################################\n",
        "                       # Initial Evaluation stage\n",
        "#########################################################################\n",
        "'''\n",
        "This stage looks at the board and adds up points based on your pieces and their positions. It gives extra points for:\n",
        "\n",
        "Having strong pieces.\n",
        "Controlling the center of the board.\n",
        "Having more possible moves.\n",
        "Having moves that force the opponent to capture.\n",
        "\n",
        "It basically tells you if your board looks good based on material and position.\n",
        "\n",
        "'''\n",
        "\n",
        "\n",
        "\n",
        "def evaluate_stage1(self):\n",
        "    # Stage 1: Basic evaluation\n",
        "    base_score = 0      # values of pieces\n",
        "    mobility_white = 0  # total num of legal moves for White\n",
        "    mobility_black = 0  # total num of legal moves for Black\n",
        "    static_center_bonus = 0  # bonus for central squares\n",
        "    forced_capture_bonus = 0  # bonus for forced captures\n",
        "    white_forced_capture = False\n",
        "    black_forced_capture = False\n",
        "    center_squares = {(3, 3), (3, 4), (4, 3), (4, 4)}\n",
        "\n",
        "    for r in range(8):\n",
        "        for c in range(8):\n",
        "            cell = self.board[r][c]\n",
        "            if cell == \"W\":\n",
        "                base_score += 2\n",
        "                if (r, c) in center_squares:\n",
        "                    static_center_bonus += 0.5\n",
        "                moves = self.generate_moves(r, c)\n",
        "                mobility_white += len(moves)\n",
        "                if any(move[2] is not None for move in moves):\n",
        "                    white_forced_capture = True\n",
        "            elif cell == \"w\":\n",
        "                base_score += 1\n",
        "                if (r, c) in center_squares:\n",
        "                    static_center_bonus += 0.3\n",
        "                moves = self.generate_moves(r, c)\n",
        "                mobility_white += len(moves)\n",
        "                if any(move[2] is not None for move in moves):\n",
        "                    white_forced_capture = True\n",
        "            elif cell == \"B\":\n",
        "                base_score -= 2\n",
        "                if (r, c) in center_squares:\n",
        "                    static_center_bonus -= 0.5\n",
        "                moves = self.generate_moves(r, c)\n",
        "                mobility_black += len(moves)\n",
        "                if any(move[2] is not None for move in moves):\n",
        "                    black_forced_capture = True\n",
        "            elif cell == \"b\":\n",
        "                base_score -= 1\n",
        "                if (r, c) in center_squares:\n",
        "                    static_center_bonus -= 0.3\n",
        "                moves = self.generate_moves(r, c)\n",
        "                mobility_black += len(moves)\n",
        "                if any(move[2] is not None for move in moves):\n",
        "                    black_forced_capture = True\n",
        "\n",
        "    mobility_score = 0.1 * (mobility_white - mobility_black)\n",
        "    if white_forced_capture:\n",
        "        forced_capture_bonus += 0.5\n",
        "    if black_forced_capture:\n",
        "        forced_capture_bonus -= 0.5\n",
        "    total_score = base_score + static_center_bonus + mobility_score + forced_capture_bonus\n",
        "\n",
        "    print(\"Stage 1: Basic Evaluation Score =\", total_score)\n",
        "    return total_score\n",
        "\n",
        "CurrentBoard.evaluate_stage1 = evaluate_stage1\n",
        "\n"
      ],
      "metadata": {
        "id": "a-Rz4QEuihYj"
      },
      "execution_count": 126,
      "outputs": []
    },
    {
      "cell_type": "code",
      "source": [
        "board_instance = CurrentBoard()\n",
        "board_instance.evaluate_stage1()"
      ],
      "metadata": {
        "colab": {
          "base_uri": "https://localhost:8080/"
        },
        "id": "AdUo00jHugHS",
        "outputId": "a89b2099-00a5-4fc8-a1bf-3e9e6f8dc1c1"
      },
      "execution_count": 127,
      "outputs": [
        {
          "output_type": "stream",
          "name": "stdout",
          "text": [
            "Stage 1: Basic Evaluation Score = -1.9\n"
          ]
        },
        {
          "output_type": "execute_result",
          "data": {
            "text/plain": [
              "-1.9"
            ]
          },
          "metadata": {},
          "execution_count": 127
        }
      ]
    },
    {
      "cell_type": "code",
      "source": [
        "#########################################################################\n",
        "                       # Evaluation stage 2\n",
        "#########################################################################\n",
        "'''\n",
        "Starting with the score from Stage 1, this stage checks if the same board position has happened before. It subtracts points if:\n",
        "\n",
        "The board repeats positions.\n",
        "The same moves happen over and over.\n",
        "\n",
        "This helps discourage making the same moves repeatedly and encourages trying new strategies.\n",
        "'''\n",
        "\n",
        "\n",
        "def evaluate_stage2(self):\n",
        "    # Start with the result from Stage 1.\n",
        "    total_score = self.evaluate_stage1()\n",
        "\n",
        "    repetition_penalty = 0\n",
        "    for hist_board in self.history:\n",
        "        if self.board == hist_board:\n",
        "            repetition_penalty -= 200\n",
        "            break\n",
        "    if self.history and self.board == self.history[-1]:\n",
        "        repetition_penalty -= 500\n",
        "    rep_count = sum(1 for hist_board in self.history if hist_board == self.board)\n",
        "    if rep_count > 1:\n",
        "        repetition_penalty -= 300 * (rep_count - 1)\n",
        "    if self.history:\n",
        "        prev_white = sum(cell in (\"w\", \"W\") for row in self.history[-1] for cell in row)\n",
        "        prev_black = sum(cell in (\"b\", \"B\") for row in self.history[-1] for cell in row)\n",
        "        cur_white = sum(cell in (\"w\", \"W\") for row in self.board for cell in row)\n",
        "        cur_black = sum(cell in (\"b\", \"B\") for row in self.board for cell in row)\n",
        "        if cur_white == prev_white and cur_black == prev_black:\n",
        "            repetition_penalty -= 100\n",
        "\n",
        "    total_score += repetition_penalty\n",
        "    print(\"Stage 2: After Repetition Penalties, Score =\", total_score)\n",
        "    return total_score\n",
        "\n",
        "\n",
        "CurrentBoard.evaluate_stage2 = evaluate_stage2\n"
      ],
      "metadata": {
        "id": "Z9uAtAH4KHC1"
      },
      "execution_count": 128,
      "outputs": []
    },
    {
      "cell_type": "code",
      "source": [
        "board_instance = CurrentBoard()\n",
        "board_instance.evaluate_stage2()"
      ],
      "metadata": {
        "colab": {
          "base_uri": "https://localhost:8080/"
        },
        "id": "_VmXWmebuID4",
        "outputId": "e63106b2-8b26-4bfd-90d7-ea4e806e5744"
      },
      "execution_count": 129,
      "outputs": [
        {
          "output_type": "stream",
          "name": "stdout",
          "text": [
            "Stage 1: Basic Evaluation Score = -1.9\n",
            "Stage 2: After Repetition Penalties, Score = -1.9\n"
          ]
        },
        {
          "output_type": "execute_result",
          "data": {
            "text/plain": [
              "-1.9"
            ]
          },
          "metadata": {},
          "execution_count": 129
        }
      ]
    },
    {
      "cell_type": "code",
      "source": [
        "#########################################################################\n",
        "                       # Evaluation stage 3\n",
        "#########################################################################\n",
        "'''\n",
        "A bonus is added when the number of opponent pieces captured or\n",
        "the preservation of friendly pieces has improved relative to the\n",
        "previous board state.\n",
        "\n",
        "'''\n",
        "\n",
        "\n",
        "def evaluate_stage3(self):\n",
        "    # Start with the result from Stage 2.\n",
        "    total_score = self.evaluate_stage2()\n",
        "\n",
        "    improvement_bonus = 0\n",
        "    if self.history:\n",
        "        prev_board = self.history[-1]\n",
        "        prev_white = sum(cell in (\"w\", \"W\") for row in prev_board for cell in row)\n",
        "        prev_black = sum(cell in (\"b\", \"B\") for row in prev_board for cell in row)\n",
        "        cur_white = sum(cell in (\"w\", \"W\") for row in self.board for cell in row)\n",
        "        cur_black = sum(cell in (\"b\", \"B\") for row in self.board for cell in row)\n",
        "        improvement_bonus += ((prev_black - cur_black) - (prev_white - cur_white)) * 15\n",
        "\n",
        "    total_score += improvement_bonus\n",
        "    print(\"Stage 3: After Material Improvement Bonus, Score =\", total_score)\n",
        "    return total_score\n",
        "CurrentBoard.evaluate_stage3 = evaluate_stage3\n"
      ],
      "metadata": {
        "id": "mqg5j4DSuH7h"
      },
      "execution_count": 130,
      "outputs": []
    },
    {
      "cell_type": "code",
      "source": [
        "board_instance = CurrentBoard()\n",
        "board_instance.evaluate_stage3()"
      ],
      "metadata": {
        "colab": {
          "base_uri": "https://localhost:8080/"
        },
        "id": "7_a_9L0BuHwE",
        "outputId": "567e8327-05ae-4aaa-8a8c-bb5cc5c07eda"
      },
      "execution_count": 131,
      "outputs": [
        {
          "output_type": "stream",
          "name": "stdout",
          "text": [
            "Stage 1: Basic Evaluation Score = -1.9\n",
            "Stage 2: After Repetition Penalties, Score = -1.9\n",
            "Stage 3: After Material Improvement Bonus, Score = -1.9\n"
          ]
        },
        {
          "output_type": "execute_result",
          "data": {
            "text/plain": [
              "-1.9"
            ]
          },
          "metadata": {},
          "execution_count": 131
        }
      ]
    },
    {
      "cell_type": "code",
      "source": [
        "#########################################################################\n",
        "                       # Evaluation stage 4\n",
        "#########################################################################\n",
        "'''\n",
        "This stage calculates a bonus based on the proximity\n",
        " of pieces to the center of the board.\n",
        "\n",
        "This helps to steer pieces away from corners and edges,\n",
        "which generally leads to better mobility and overall board influence.\n",
        "\n",
        "'''\n",
        "def evaluate_stage4(self):\n",
        "    # Start with the result from Stage 3.\n",
        "    total_score = self.evaluate_stage3()\n",
        "\n",
        "    dynamic_center_bonus = 0\n",
        "    center_x, center_y = 3.5, 3.5\n",
        "    for r in range(8):\n",
        "        for c in range(8):\n",
        "            if self.board[r][c] in (\"w\", \"W\"):\n",
        "                dist = abs(r - center_x) + abs(c - center_y)\n",
        "                dynamic_center_bonus += max(0, 5 - dist) * 0.2\n",
        "            elif self.board[r][c] in (\"b\", \"B\"):\n",
        "                dist = abs(r - center_x) + abs(c - center_y)\n",
        "                dynamic_center_bonus -= max(0, 5 - dist) * 0.2\n",
        "\n",
        "    total_score += dynamic_center_bonus\n",
        "    print(\"Stage 4: After Dynamic Center Bonus, Score =\", total_score)\n",
        "    return total_score\n",
        "CurrentBoard.evaluate_stage4 = evaluate_stage4"
      ],
      "metadata": {
        "id": "ZTIe-cKHw2yr"
      },
      "execution_count": 132,
      "outputs": []
    },
    {
      "cell_type": "code",
      "source": [
        "board_instance = CurrentBoard()\n",
        "board_instance.evaluate_stage4()"
      ],
      "metadata": {
        "colab": {
          "base_uri": "https://localhost:8080/"
        },
        "id": "Dvzu94zxw2pA",
        "outputId": "92881f1e-1899-4400-8137-a9381daf2ac0"
      },
      "execution_count": 133,
      "outputs": [
        {
          "output_type": "stream",
          "name": "stdout",
          "text": [
            "Stage 1: Basic Evaluation Score = -1.9\n",
            "Stage 2: After Repetition Penalties, Score = -1.9\n",
            "Stage 3: After Material Improvement Bonus, Score = -1.9\n",
            "Stage 4: After Dynamic Center Bonus, Score = -3.1\n"
          ]
        },
        {
          "output_type": "execute_result",
          "data": {
            "text/plain": [
              "-3.1"
            ]
          },
          "metadata": {},
          "execution_count": 133
        }
      ]
    },
    {
      "cell_type": "code",
      "source": [
        "#########################################################################\n",
        "                       # Evaluation stage 5\n",
        "#########################################################################\n",
        "'''\n",
        "This stage rewards forward movement by awarding extra points for pieces\n",
        "that advance toward the opponent’s side.\n",
        "Additional points are given for positioning pieces near promotion zones,\n",
        "encouraging aggressive and progressive play,\n",
        "leading to increased offensive potential and chances for piece promotion.\n",
        "\n",
        "'''\n",
        "\n",
        "def evaluate_stage5(self):\n",
        "    # Start with the result from Stage 4.\n",
        "    total_score = self.evaluate_stage4()\n",
        "    advancement_bonus = 0\n",
        "    for r in range(8):\n",
        "        for c in range(8):\n",
        "            if self.board[r][c] == \"w\":\n",
        "                advancement_bonus += (7 - r) * 0.5\n",
        "            elif self.board[r][c] == \"b\":\n",
        "                advancement_bonus += r * 0.5\n",
        "    promotion_bonus = 0\n",
        "    for c in range(8):\n",
        "        if self.board[1][c] == \"w\":\n",
        "            promotion_bonus += 2\n",
        "        if self.board[6][c] == \"b\":\n",
        "            promotion_bonus += 2\n",
        "    bonus = advancement_bonus + promotion_bonus\n",
        "    total_score += bonus\n",
        "    print(\"Stage 5: After Advancement & Promotion Bonuses, Score =\", total_score)\n",
        "    return total_score\n",
        "CurrentBoard.evaluate_stage5 = evaluate_stage5"
      ],
      "metadata": {
        "id": "ld4S1hSAw2bp"
      },
      "execution_count": 134,
      "outputs": []
    },
    {
      "cell_type": "code",
      "source": [
        "board_instance = CurrentBoard()\n",
        "board_instance.evaluate_stage5()"
      ],
      "metadata": {
        "colab": {
          "base_uri": "https://localhost:8080/"
        },
        "id": "-jOsbWH76gtW",
        "outputId": "49f5e83e-a6de-4c23-f97c-437a1b3d0a4d"
      },
      "execution_count": 135,
      "outputs": [
        {
          "output_type": "stream",
          "name": "stdout",
          "text": [
            "Stage 1: Basic Evaluation Score = -1.9\n",
            "Stage 2: After Repetition Penalties, Score = -1.9\n",
            "Stage 3: After Material Improvement Bonus, Score = -1.9\n",
            "Stage 4: After Dynamic Center Bonus, Score = -3.1\n",
            "Stage 5: After Advancement & Promotion Bonuses, Score = -0.6000000000000001\n"
          ]
        },
        {
          "output_type": "execute_result",
          "data": {
            "text/plain": [
              "-0.6000000000000001"
            ]
          },
          "metadata": {},
          "execution_count": 135
        }
      ]
    },
    {
      "cell_type": "code",
      "source": [
        "#########################################################################\n",
        "                       # Evaluation stage 6\n",
        "#########################################################################\n",
        "'''\n",
        "When Black’s pawn structure is active and centrally positioned,\n",
        "the evaluation shifts in Black's favour. This was implemented\n",
        "because the black pawn was not used throughout the game.\n",
        "\n",
        "'''\n",
        "\n",
        "def evaluate_stage6(self):\n",
        "    # Start with the result from Stage 5.\n",
        "    total_score = self.evaluate_stage5()\n",
        "\n",
        "    # Pawn Activity Bonus for Black (should reduce score if Black benefits)\n",
        "    pawn_activity_bonus = 0\n",
        "    for r in range(8):\n",
        "        for c in range(8):\n",
        "            if self.board[r][c] == \"b\":\n",
        "                pawn_activity_bonus -= 5  # Subtracting favors Black\n",
        "    total_score += pawn_activity_bonus\n",
        "    print(\"Stage 6a: After Pawn Activity Bonus, Score =\", total_score)\n",
        "\n",
        "    # Pawn Center Bonus for Black (should also reduce score if Black benefits)\n",
        "    pawn_center_bonus = 0\n",
        "    center_x, center_y = 3.5, 3.5\n",
        "    for r in range(8):\n",
        "        for c in range(8):\n",
        "            if self.board[r][c] == \"b\":\n",
        "                dist = abs(r - center_x) + abs(c - center_y)\n",
        "                pawn_center_bonus -= max(0, 7 - dist) * 2  # Subtracting favors Black\n",
        "    total_score += pawn_center_bonus\n",
        "    print(\"Stage 6b: After Pawn Center Bonus, Score =\", total_score)\n",
        "\n",
        "    return total_score\n",
        "\n",
        "CurrentBoard.evaluate_stage6 = evaluate_stage6\n"
      ],
      "metadata": {
        "id": "m4qXUjar6gqA"
      },
      "execution_count": 136,
      "outputs": []
    },
    {
      "cell_type": "code",
      "source": [
        "board_instance = CurrentBoard()\n",
        "board_instance.evaluate_stage6()"
      ],
      "metadata": {
        "colab": {
          "base_uri": "https://localhost:8080/"
        },
        "id": "EXzvWQwV6gmT",
        "outputId": "ee55d3f2-34c5-4601-ca1d-abc969171187"
      },
      "execution_count": 137,
      "outputs": [
        {
          "output_type": "stream",
          "name": "stdout",
          "text": [
            "Stage 1: Basic Evaluation Score = -1.9\n",
            "Stage 2: After Repetition Penalties, Score = -1.9\n",
            "Stage 3: After Material Improvement Bonus, Score = -1.9\n",
            "Stage 4: After Dynamic Center Bonus, Score = -3.1\n",
            "Stage 5: After Advancement & Promotion Bonuses, Score = -0.6000000000000001\n",
            "Stage 6a: After Pawn Activity Bonus, Score = -5.6\n",
            "Stage 6b: After Pawn Center Bonus, Score = -15.6\n"
          ]
        },
        {
          "output_type": "execute_result",
          "data": {
            "text/plain": [
              "-15.6"
            ]
          },
          "metadata": {},
          "execution_count": 137
        }
      ]
    },
    {
      "cell_type": "code",
      "source": [
        "#########################################################################\n",
        "                       # Evaluation stage 7\n",
        "#########################################################################\n",
        "'''\n",
        "Applies a penalty for pieces on the board's edge, where mobility is limited.\n",
        "Subtracting points here lowers the score, indicating a less effective\n",
        "position. This stage benefits White when the score remains higher\n",
        "(with fewer pieces on the edge) and favors Black when the score is more\n",
        "negative, reflecting overall board control and piece mobility.\n",
        "\n",
        "'''\n",
        "\n",
        "def evaluate_stage7(self):\n",
        "    # Start with the result from Stage 6.\n",
        "    total_score = self.evaluate_stage6()\n",
        "    edge_penalty = 0\n",
        "    for r in range(8):\n",
        "        for c in range(8):\n",
        "            if r in (0, 7) or c in (0, 7):\n",
        "                if self.board[r][c] in (\"w\", \"W\", \"b\", \"B\"):\n",
        "                    edge_penalty -= 5\n",
        "    total_score += edge_penalty\n",
        "    print(\"Stage 7: After Edge Penalty, Score =\", total_score)\n",
        "    return total_score\n",
        "\n",
        "CurrentBoard.evaluate_stage7 = evaluate_stage7"
      ],
      "metadata": {
        "id": "qIXbHSYa6gjC"
      },
      "execution_count": 138,
      "outputs": []
    },
    {
      "cell_type": "code",
      "source": [
        "board_instance = CurrentBoard()\n",
        "board_instance.evaluate_stage7()"
      ],
      "metadata": {
        "colab": {
          "base_uri": "https://localhost:8080/"
        },
        "id": "VlU1fA_N6geZ",
        "outputId": "71506c77-2653-4415-85d5-fabfc4f277fb"
      },
      "execution_count": 139,
      "outputs": [
        {
          "output_type": "stream",
          "name": "stdout",
          "text": [
            "Stage 1: Basic Evaluation Score = -1.9\n",
            "Stage 2: After Repetition Penalties, Score = -1.9\n",
            "Stage 3: After Material Improvement Bonus, Score = -1.9\n",
            "Stage 4: After Dynamic Center Bonus, Score = -3.1\n",
            "Stage 5: After Advancement & Promotion Bonuses, Score = -0.6000000000000001\n",
            "Stage 6a: After Pawn Activity Bonus, Score = -5.6\n",
            "Stage 6b: After Pawn Center Bonus, Score = -15.6\n",
            "Stage 7: After Edge Penalty, Score = -20.6\n"
          ]
        },
        {
          "output_type": "execute_result",
          "data": {
            "text/plain": [
              "-20.6"
            ]
          },
          "metadata": {},
          "execution_count": 139
        }
      ]
    },
    {
      "cell_type": "code",
      "source": [
        "#########################################################################\n",
        "                       # Evaluation stage 8\n",
        "#########################################################################\n",
        "'''\n",
        "When White's pieces have available capturing moves, a bonus of 50 points\n",
        "is added for each capture opportunity, while Black's capturing\n",
        "moves subtract 30 points. This shifts the evaluation in favor of\n",
        "the side with more aggressive capture opportunities. The implementation\n",
        "was chosen to reward immediate offensive threats that can lead to material\n",
        "gain.\n",
        "\n",
        "'''\n",
        "\n",
        "def evaluate_stage8(self):\n",
        "    # Start with the result from Stage 7.\n",
        "    total_score = self.evaluate_stage7()\n",
        "    capture_bonus = 0\n",
        "    for r in range(8):\n",
        "        for c in range(8):\n",
        "            piece = self.board[r][c]\n",
        "            moves = self.generate_moves(r, c)\n",
        "            if piece.lower() == \"w\":\n",
        "                for move in moves:\n",
        "                    if move[2] is not None:\n",
        "                        capture_bonus += 50\n",
        "            elif piece.lower() == \"b\":\n",
        "                for move in moves:\n",
        "                    if move[2] is not None:\n",
        "                        capture_bonus -= 30\n",
        "    total_score += capture_bonus\n",
        "    print(\"Stage 8: After Aggressive Capture Bonus, Score =\", total_score)\n",
        "    return total_score\n",
        "\n",
        "CurrentBoard.evaluate_stage8 = evaluate_stage8"
      ],
      "metadata": {
        "id": "lcl-okuU6gWI"
      },
      "execution_count": 140,
      "outputs": []
    },
    {
      "cell_type": "code",
      "source": [
        "board_instance = CurrentBoard()\n",
        "board_instance.evaluate_stage8()"
      ],
      "metadata": {
        "colab": {
          "base_uri": "https://localhost:8080/"
        },
        "id": "kCtZT_q39CqQ",
        "outputId": "bb4c32b7-25ce-4874-82bd-611df6ac27c8"
      },
      "execution_count": 141,
      "outputs": [
        {
          "output_type": "stream",
          "name": "stdout",
          "text": [
            "Stage 1: Basic Evaluation Score = -1.9\n",
            "Stage 2: After Repetition Penalties, Score = -1.9\n",
            "Stage 3: After Material Improvement Bonus, Score = -1.9\n",
            "Stage 4: After Dynamic Center Bonus, Score = -3.1\n",
            "Stage 5: After Advancement & Promotion Bonuses, Score = -0.6000000000000001\n",
            "Stage 6a: After Pawn Activity Bonus, Score = -5.6\n",
            "Stage 6b: After Pawn Center Bonus, Score = -15.6\n",
            "Stage 7: After Edge Penalty, Score = -20.6\n",
            "Stage 8: After Aggressive Capture Bonus, Score = -20.6\n"
          ]
        },
        {
          "output_type": "execute_result",
          "data": {
            "text/plain": [
              "-20.6"
            ]
          },
          "metadata": {},
          "execution_count": 141
        }
      ]
    },
    {
      "cell_type": "code",
      "source": [
        "#########################################################################\n",
        "                       # Evaluation stage 9\n",
        "#########################################################################\n",
        "'''\n",
        "This was implemented to stop ping-pong movement on blacks side\n",
        "\n",
        "'''\n",
        "\n",
        "def evaluate_stage9(self):\n",
        "    # Start with the result from Stage 8.\n",
        "    total_score = self.evaluate_stage8()\n",
        "    repetition_penalty_black = 0\n",
        "    if self.history:\n",
        "        prev_board = self.history[-1]\n",
        "        for r in range(8):\n",
        "            for c in range(8):\n",
        "                if self.board[r][c] == \"B\" and prev_board[r][c] == \"B\":\n",
        "                    repetition_penalty_black -= 100\n",
        "    total_score += repetition_penalty_black\n",
        "    print(\"Stage 9: After Black King Repetition Penalty, Score =\", total_score)\n",
        "    return total_score\n",
        "\n",
        "CurrentBoard.evaluate_stage9 = evaluate_stage9"
      ],
      "metadata": {
        "id": "4-1vLTx79CnH"
      },
      "execution_count": 142,
      "outputs": []
    },
    {
      "cell_type": "code",
      "source": [
        "board_instance = CurrentBoard()\n",
        "board_instance.evaluate_stage9()"
      ],
      "metadata": {
        "colab": {
          "base_uri": "https://localhost:8080/"
        },
        "id": "NOhUKJ5F9Cjc",
        "outputId": "17cd0da8-b8ac-413c-e1e6-7e4b8b8d3f12"
      },
      "execution_count": 143,
      "outputs": [
        {
          "output_type": "stream",
          "name": "stdout",
          "text": [
            "Stage 1: Basic Evaluation Score = -1.9\n",
            "Stage 2: After Repetition Penalties, Score = -1.9\n",
            "Stage 3: After Material Improvement Bonus, Score = -1.9\n",
            "Stage 4: After Dynamic Center Bonus, Score = -3.1\n",
            "Stage 5: After Advancement & Promotion Bonuses, Score = -0.6000000000000001\n",
            "Stage 6a: After Pawn Activity Bonus, Score = -5.6\n",
            "Stage 6b: After Pawn Center Bonus, Score = -15.6\n",
            "Stage 7: After Edge Penalty, Score = -20.6\n",
            "Stage 8: After Aggressive Capture Bonus, Score = -20.6\n",
            "Stage 9: After Black King Repetition Penalty, Score = -20.6\n"
          ]
        },
        {
          "output_type": "execute_result",
          "data": {
            "text/plain": [
              "-20.6"
            ]
          },
          "metadata": {},
          "execution_count": 143
        }
      ]
    },
    {
      "cell_type": "code",
      "source": [
        "#########################################################################\n",
        "                       # Evaluation stage 10\n",
        "#########################################################################\n",
        "'''\n",
        "This stage checks if either side has lost all pieces. If White has no\n",
        "pieces remaining, a score of –1000 is returned; if Black has no pieces,\n",
        "a score of +1000 is returned. This decisive adjustment immediately\n",
        "recognizes a win or loss situation, reflecting the ultimate benefit\n",
        "when one side is completely eliminated.\n",
        "\n",
        "'''\n",
        "\n",
        "def evaluate_stage10(self):\n",
        "    # Start with the result from Stage 9.\n",
        "    total_score = self.evaluate_stage9()\n",
        "    cur_white = sum(cell in (\"w\", \"W\") for row in self.board for cell in row)\n",
        "    cur_black = sum(cell in (\"b\", \"B\") for row in self.board for cell in row)\n",
        "    if cur_white == 0:\n",
        "        print(\"Stage 10: Terminal state reached (White has no pieces).\")\n",
        "        return -1000\n",
        "    if cur_black == 0:\n",
        "        print(\"Stage 10: Terminal state reached (Black has no pieces).\")\n",
        "        return 1000\n",
        "    print(\"Stage 10: No terminal state reached, Score =\", total_score)\n",
        "    return total_score\n",
        "\n",
        "CurrentBoard.evaluate_stage10 = evaluate_stage10"
      ],
      "metadata": {
        "id": "HGnGF3tl9Cgu"
      },
      "execution_count": 144,
      "outputs": []
    },
    {
      "cell_type": "code",
      "source": [
        "\n",
        "board_instance = CurrentBoard()\n",
        "board_instance.evaluate_stage10()"
      ],
      "metadata": {
        "colab": {
          "base_uri": "https://localhost:8080/"
        },
        "id": "we9HAnpS9CcK",
        "outputId": "41de317e-89d7-4996-8244-50de556573d5"
      },
      "execution_count": 148,
      "outputs": [
        {
          "output_type": "stream",
          "name": "stdout",
          "text": [
            "Stage 1: Basic Evaluation Score = -1.9\n",
            "Stage 2: After Repetition Penalties, Score = -1.9\n",
            "Stage 3: After Material Improvement Bonus, Score = -1.9\n",
            "Stage 4: After Dynamic Center Bonus, Score = -3.1\n",
            "Stage 5: After Advancement & Promotion Bonuses, Score = -0.6000000000000001\n",
            "Stage 6a: After Pawn Activity Bonus, Score = -5.6\n",
            "Stage 6b: After Pawn Center Bonus, Score = -15.6\n",
            "Stage 7: After Edge Penalty, Score = -20.6\n",
            "Stage 8: After Aggressive Capture Bonus, Score = -20.6\n",
            "Stage 9: After Black King Repetition Penalty, Score = -20.6\n",
            "Stage 10: No terminal state reached, Score = -20.6\n"
          ]
        },
        {
          "output_type": "execute_result",
          "data": {
            "text/plain": [
              "-20.6"
            ]
          },
          "metadata": {},
          "execution_count": 148
        }
      ]
    },
    {
      "cell_type": "code",
      "source": [
        "#########################################################################\n",
        "                       # Evaluation stage 11\n",
        "#########################################################################\n",
        "'''\n",
        "When there are 6 or fewer pieces on the board, the current score is\n",
        "amplified by 50% to emphasize the importance of the endgame. Additionally,\n",
        "the distance between the kings is taken into account—if the evaluation\n",
        "already favors one side, a bonus or further subtraction based on closer\n",
        "king proximity is applied. This was implemented to stress the strategic\n",
        "value of king activity and proximity during the endgame phase.\n",
        "\n",
        "'''\n",
        "\n",
        "def evaluate_stage11(self):\n",
        "    # Start with the result from Stage 10.\n",
        "    total_score = self.evaluate_stage10()\n",
        "    total_pieces = sum(cell in (\"w\", \"W\", \"b\", \"B\") for row in self.board for cell in row)\n",
        "    endgame_bonus = 0\n",
        "    if total_pieces <= 6:\n",
        "        # For demonstration, amplify the current score.\n",
        "        endgame_bonus += 0.5 * total_score\n",
        "        white_king_positions = [(r, c) for r in range(8) for c in range(8) if self.board[r][c] == \"W\"]\n",
        "        black_king_positions = [(r, c) for r in range(8) for c in range(8) if self.board[r][c] == \"B\"]\n",
        "        if white_king_positions and black_king_positions:\n",
        "            wk = white_king_positions[0]\n",
        "            bk = black_king_positions[0]\n",
        "            distance = abs(wk[0] - bk[0]) + abs(wk[1] - bk[1])\n",
        "            if total_score > 0:\n",
        "                endgame_bonus += (7 - distance) * 20\n",
        "            elif total_score < 0:\n",
        "                endgame_bonus -= (7 - distance) * 20\n",
        "    total_score += endgame_bonus\n",
        "    print(\"Stage 11: After Endgame Bonus, Final Evaluation Score =\", total_score)\n",
        "    return total_score\n",
        "\n",
        "CurrentBoard.evaluate_stage11 = evaluate_stage11"
      ],
      "metadata": {
        "id": "AHlMrFNa9CYz"
      },
      "execution_count": 149,
      "outputs": []
    },
    {
      "cell_type": "code",
      "source": [
        "'''\n",
        "the final score of –90.9 indicates a strong advantage for Black,\n",
        "with the most significant shifts coming from active Black pawn play\n",
        "and favorable endgame conditions.\n",
        "\n",
        "This does not mean that black will win, its simply shows that,\n",
        "based on the evaluation criteria, the current board position has\n",
        "several elements that favor Black. The evaluation function is providing\n",
        "a snapshot of the position by weighing factors like piece activity,\n",
        "central control, and potential endgame strength, but it is not a guarantee\n",
        "of the final outcome.\n",
        "'''\n",
        "\n",
        "board_instance = CurrentBoard()\n",
        "board_instance.evaluate_stage11()"
      ],
      "metadata": {
        "colab": {
          "base_uri": "https://localhost:8080/"
        },
        "id": "3ungcrcD9CS6",
        "outputId": "5257eebc-24f7-4c2f-d981-31213a39e8bd"
      },
      "execution_count": 150,
      "outputs": [
        {
          "output_type": "stream",
          "name": "stdout",
          "text": [
            "Stage 1: Basic Evaluation Score = -1.9\n",
            "Stage 2: After Repetition Penalties, Score = -1.9\n",
            "Stage 3: After Material Improvement Bonus, Score = -1.9\n",
            "Stage 4: After Dynamic Center Bonus, Score = -3.1\n",
            "Stage 5: After Advancement & Promotion Bonuses, Score = -0.6000000000000001\n",
            "Stage 6a: After Pawn Activity Bonus, Score = -5.6\n",
            "Stage 6b: After Pawn Center Bonus, Score = -15.6\n",
            "Stage 7: After Edge Penalty, Score = -20.6\n",
            "Stage 8: After Aggressive Capture Bonus, Score = -20.6\n",
            "Stage 9: After Black King Repetition Penalty, Score = -20.6\n",
            "Stage 10: No terminal state reached, Score = -20.6\n",
            "Stage 11: After Endgame Bonus, Final Evaluation Score = -90.9\n"
          ]
        },
        {
          "output_type": "execute_result",
          "data": {
            "text/plain": [
              "-90.9"
            ]
          },
          "metadata": {},
          "execution_count": 150
        }
      ]
    },
    {
      "cell_type": "markdown",
      "source": [
        "###Complete Evaluation function"
      ],
      "metadata": {
        "id": "L9OQloatbG23"
      }
    },
    {
      "cell_type": "code",
      "source": [
        "#########################################################################\n",
        "                       # Complete Evaluation function\n",
        "#########################################################################\n",
        "\n",
        "\n",
        "def evaluate(self):\n",
        "    ''' Base Evaluation (Material, Mobility, Static Center) '''\n",
        "    base_score = 0  # values of pieces\n",
        "    mobility_white = 0  # total num of legal moves\n",
        "    mobility_black = 0\n",
        "    static_center_bonus = 0  # reward more central pieces\n",
        "    forced_capture_bonus = 0  # encourages positions where pieces are forced to capture\n",
        "    white_forced_capture = False\n",
        "    black_forced_capture = False\n",
        "    center_squares = {(3, 3), (3, 4), (4, 3), (4, 4)}\n",
        "\n",
        "    # Material, center, and mobility evaluation\n",
        "    for r in range(8):\n",
        "        for c in range(8):\n",
        "            cell = self.board[r][c]\n",
        "            if cell == \"W\":\n",
        "                base_score += 2\n",
        "                if (r, c) in center_squares:\n",
        "                    static_center_bonus += 0.5\n",
        "                moves = self.generate_moves(r, c)\n",
        "                mobility_white += len(moves)\n",
        "                if any(move[2] is not None for move in moves):\n",
        "                    white_forced_capture = True\n",
        "            elif cell == \"w\":\n",
        "                base_score += 1\n",
        "                if (r, c) in center_squares:\n",
        "                    static_center_bonus += 0.3\n",
        "                moves = self.generate_moves(r, c)\n",
        "                mobility_white += len(moves)\n",
        "                if any(move[2] is not None for move in moves):\n",
        "                    white_forced_capture = True\n",
        "            elif cell == \"B\":\n",
        "                base_score -= 2\n",
        "                if (r, c) in center_squares:\n",
        "                    static_center_bonus -= 0.5\n",
        "                moves = self.generate_moves(r, c)\n",
        "                mobility_black += len(moves)\n",
        "                if any(move[2] is not None for move in moves):\n",
        "                    black_forced_capture = True\n",
        "            elif cell == \"b\":\n",
        "                base_score -= 1\n",
        "                if (r, c) in center_squares:\n",
        "                    static_center_bonus -= 0.3\n",
        "                moves = self.generate_moves(r, c)\n",
        "                mobility_black += len(moves)\n",
        "                if any(move[2] is not None for move in moves):\n",
        "                    black_forced_capture = True\n",
        "\n",
        "    mobility_score = 0.1 * (mobility_white - mobility_black)\n",
        "    if white_forced_capture:\n",
        "        forced_capture_bonus += 0.5\n",
        "    if black_forced_capture:\n",
        "        forced_capture_bonus -= 0.5\n",
        "    total_score = base_score + static_center_bonus + mobility_score + forced_capture_bonus\n",
        "\n",
        "    ''' Penalize Repetitions More Intelligently '''\n",
        "    for hist_board in self.history:\n",
        "        if self.board == hist_board:\n",
        "            total_score -= 200\n",
        "            break\n",
        "    if self.history and self.board == self.history[-1]:\n",
        "        total_score -= 500\n",
        "    rep_count = sum(1 for hist_board in self.history if hist_board == self.board)\n",
        "    if rep_count > 1:\n",
        "        total_score -= 300 * (rep_count - 1)\n",
        "    if self.history:\n",
        "        prev_white = sum(cell in (\"w\", \"W\") for row in self.history[-1] for cell in row)\n",
        "        prev_black = sum(cell in (\"b\", \"B\") for row in self.history[-1] for cell in row)\n",
        "        cur_white = sum(cell in (\"w\", \"W\") for row in self.board for cell in row)\n",
        "        cur_black = sum(cell in (\"b\", \"B\") for row in self.board for cell in row)\n",
        "        if cur_white == prev_white and cur_black == prev_black:\n",
        "            total_score -= 100\n",
        "\n",
        "    ''' Bonus for material improvement from previous move '''\n",
        "    if self.history:\n",
        "        prev_board = self.history[-1]\n",
        "        prev_white = sum(cell in (\"w\", \"W\") for row in prev_board for cell in row)\n",
        "        prev_black = sum(cell in (\"b\", \"B\") for row in prev_board for cell in row)\n",
        "        cur_white = sum(cell in (\"w\", \"W\") for row in self.board for cell in row)\n",
        "        cur_black = sum(cell in (\"b\", \"B\") for row in self.board for cell in row)\n",
        "        total_score += ((prev_black - cur_black) - (prev_white - cur_white)) * 15\n",
        "\n",
        "    ''' Bonus for having pieces near the center '''\n",
        "    dynamic_center_bonus = 0\n",
        "    center_x, center_y = 3.5, 3.5\n",
        "    for r in range(8):\n",
        "        for c in range(8):\n",
        "            if self.board[r][c] in (\"w\", \"W\"):\n",
        "                dist = abs(r - center_x) + abs(c - center_y)\n",
        "                dynamic_center_bonus += max(0, 5 - dist) * 0.2\n",
        "            elif self.board[r][c] in (\"b\", \"B\"):\n",
        "                dist = abs(r - center_x) + abs(c - center_y)\n",
        "                dynamic_center_bonus -= max(0, 5 - dist) * 0.2\n",
        "    total_score += dynamic_center_bonus\n",
        "\n",
        "    ''' Bonus for moving toward promotion and being near promotion '''\n",
        "    advancement_bonus = 0\n",
        "    for r in range(8):\n",
        "        for c in range(8):\n",
        "            if self.board[r][c] == \"w\":\n",
        "                advancement_bonus += (7 - r) * 0.5\n",
        "            elif self.board[r][c] == \"b\":\n",
        "                advancement_bonus += r * 0.5\n",
        "    promotion_bonus = 0\n",
        "    for c in range(8):\n",
        "        if self.board[1][c] == \"w\":\n",
        "            promotion_bonus += 2\n",
        "        if self.board[6][c] == \"b\":\n",
        "            promotion_bonus += 2\n",
        "    total_score += (advancement_bonus + promotion_bonus)\n",
        "\n",
        "    ''' Pawn Activity Bonus for Black '''\n",
        "    pawn_activity_bonus = 0\n",
        "    for r in range(8):\n",
        "        for c in range(8):\n",
        "            if self.board[r][c] == \"b\":\n",
        "                pawn_activity_bonus += 10\n",
        "    total_score += pawn_activity_bonus\n",
        "\n",
        "    ''' Pawn Center Bonus for Black '''\n",
        "    pawn_center_bonus = 0\n",
        "    for r in range(8):\n",
        "        for c in range(8):\n",
        "            if self.board[r][c] == \"b\":\n",
        "                dist = abs(r - center_x) + abs(c - center_y)\n",
        "                pawn_center_bonus += max(0, 7 - dist) * 2\n",
        "    total_score += pawn_center_bonus\n",
        "\n",
        "    ''' Penalty for pieces on the edge '''\n",
        "    edge_penalty = 0\n",
        "    for r in range(8):\n",
        "        for c in range(8):\n",
        "            if r in (0, 7) or c in (0, 7):\n",
        "                if self.board[r][c] in (\"w\", \"W\", \"b\", \"B\"):\n",
        "                    edge_penalty -= 5\n",
        "    total_score += edge_penalty\n",
        "\n",
        "    ''' Aggressive Capture Bonus '''\n",
        "    capture_bonus = 0\n",
        "    for r in range(8):\n",
        "        for c in range(8):\n",
        "            piece = self.board[r][c]\n",
        "            moves = self.generate_moves(r, c)\n",
        "            if piece.lower() == \"w\":\n",
        "                for move in moves:\n",
        "                    if move[2] is not None:\n",
        "                        capture_bonus += 50\n",
        "            elif piece.lower() == \"b\":\n",
        "                for move in moves:\n",
        "                    if move[2] is not None:\n",
        "                        capture_bonus -= 30\n",
        "    total_score += capture_bonus\n",
        "\n",
        "    ''' Black King Repetition Penalty '''\n",
        "    if self.history:\n",
        "        prev_board = self.history[-1]\n",
        "        for r in range(8):\n",
        "            for c in range(8):\n",
        "                if self.board[r][c] == \"B\" and prev_board[r][c] == \"B\":\n",
        "                    total_score -= 100\n",
        "\n",
        "    ''' If one side has no pieces, return an extreme value. '''\n",
        "    cur_white = sum(cell in (\"w\", \"W\") for row in self.board for cell in row)\n",
        "    cur_black = sum(cell in (\"b\", \"B\") for row in self.board for cell in row)\n",
        "    if cur_white == 0:\n",
        "        return -1000\n",
        "    if cur_black == 0:\n",
        "        return 1000\n",
        "\n",
        "    ''' Endgame Bonus: Increase winning potential when few pieces remain. '''\n",
        "    total_pieces = sum(cell in (\"w\", \"W\", \"b\", \"B\") for row in self.board for cell in row)\n",
        "    if total_pieces <= 6:\n",
        "        # Amplify material advantage.\n",
        "        total_score += base_score * 0.5\n",
        "        # Encourage active king play: if kings are close, favor the side with the material edge.\n",
        "        white_king_positions = [(r, c) for r in range(8) for c in range(8) if self.board[r][c] == \"W\"]\n",
        "        black_king_positions = [(r, c) for r in range(8) for c in range(8) if self.board[r][c] == \"B\"]\n",
        "        if white_king_positions and black_king_positions:\n",
        "            wk = white_king_positions[0]\n",
        "            bk = black_king_positions[0]\n",
        "            distance = abs(wk[0] - bk[0]) + abs(wk[1] - bk[1])\n",
        "            # In the endgame, a shorter distance between kings can help the side with the edge.\n",
        "            if base_score > 0:\n",
        "                total_score += (7 - distance) * 20\n",
        "            elif base_score < 0:\n",
        "                total_score -= (7 - distance) * 20\n",
        "\n",
        "    return total_score\n",
        "\n",
        "CurrentBoard.evaluate = evaluate"
      ],
      "metadata": {
        "id": "CXXsjT_2lBnf"
      },
      "execution_count": 154,
      "outputs": []
    },
    {
      "cell_type": "code",
      "source": [
        "#instance of CurrentBoard.\n",
        "cb = CurrentBoard()\n",
        "cb.display()\n",
        "\n",
        "\n",
        "# Check the evaluation score.\n",
        "cb.evaluate()\n"
      ],
      "metadata": {
        "colab": {
          "base_uri": "https://localhost:8080/"
        },
        "id": "ARUduT3zk9Kq",
        "outputId": "572ef788-89ff-4daf-e3cc-37b7aa5ca306"
      },
      "execution_count": 155,
      "outputs": [
        {
          "output_type": "stream",
          "name": "stdout",
          "text": [
            "   a b c d e f g h\n",
            "0    .   .   .   .\n",
            "1  .   .   .   .  \n",
            "2    .   .   .   .\n",
            "3  W   .   B   .  \n",
            "4    .   .   .   .\n",
            "5  .   .   b   .  \n",
            "6    .   .   .   .\n",
            "7  .   .   .   .  \n",
            "\n"
          ]
        },
        {
          "output_type": "execute_result",
          "data": {
            "text/plain": [
              "-46.1"
            ]
          },
          "metadata": {},
          "execution_count": 155
        }
      ]
    },
    {
      "cell_type": "code",
      "source": [
        "cb = CurrentBoard()\n",
        "cb.display()\n",
        "\n",
        "print(\"State of Board:\", cb.state_of_board())\n",
        "print(\"Evaluation Score:\", cb.evaluate())\n"
      ],
      "metadata": {
        "colab": {
          "base_uri": "https://localhost:8080/"
        },
        "id": "SNJ3A2KFILYw",
        "outputId": "5e1b8426-7af5-4d64-f6c5-93fb1122ecbd"
      },
      "execution_count": 157,
      "outputs": [
        {
          "output_type": "stream",
          "name": "stdout",
          "text": [
            "   a b c d e f g h\n",
            "0    .   .   .   .\n",
            "1  .   .   .   .  \n",
            "2    .   .   .   .\n",
            "3  W   .   B   .  \n",
            "4    .   .   .   .\n",
            "5  .   .   b   .  \n",
            "6    .   .   .   .\n",
            "7  .   .   .   .  \n",
            "\n",
            "State of Board: Unfinished\n",
            "Evaluation Score: -46.1\n"
          ]
        }
      ]
    },
    {
      "cell_type": "markdown",
      "source": [
        "#SearchTree"
      ],
      "metadata": {
        "id": "2lmVBtjEbpSl"
      }
    },
    {
      "cell_type": "markdown",
      "source": [
        "In this implementation of the search tree, I've enforced a maximum depth to prevent infinite searches and filtered out moves that revert to previously visited states to ensure continuous progress. Child nodes are sorted by evaluation scores, prioritizing the most promising moves, and alpha-beta pruning efficiently eliminates branches that won't influence the final decision. Terminal states receive fixed scores, while other leaf nodes are evaluated using a detailed board evaluation function, ensuring every decision is thoroughly analyzed."
      ],
      "metadata": {
        "id": "Dj-Ou1rrojQ2"
      }
    },
    {
      "cell_type": "code",
      "source": [
        "def other(player):\n",
        "    return \"w\" if player == \"b\" else \"b\"\n",
        "\n",
        "#search tree\n",
        "class SearchTreeNode:\n",
        "    def __init__(self, board_instance, playing_as, ply=0, max_depth=20, verbose=False, verbose_threshold=3):\n",
        "        self.children = [] #possible next moves\n",
        "        self.value = None #value of the board\n",
        "        self.value_is_assigned = False\n",
        "        self.ply_depth = ply #tracks how many moves deep we are in the search\n",
        "        self.current_board = board_instance\n",
        "        self.move_for = playing_as\n",
        "        self.max_depth = max_depth #the limit to how far ahead the tree will search\n",
        "        self.verbose = verbose #control debugging output\n",
        "        self.verbose_threshold = verbose_threshold\n",
        "\n",
        "        # check to see reached maximum depth or if the game is over.\n",
        "        state = self.current_board.state_of_board()\n",
        "        if self.ply_depth >= self.max_depth or state != \"Unfinished\":\n",
        "            self.value_is_assigned = True\n",
        "            if state != \"Unfinished\":\n",
        "                self.value = 1000 if state == \"white\" else -1000\n",
        "            else:\n",
        "                self.value = self.current_board.evaluate()\n",
        "        else:\n",
        "            self.generate_children()\n",
        "\n",
        "    def generate_children(self):\n",
        "        possible_boards = self.current_board.all_moves(self.move_for)\n",
        "        # Filter out moves that would simply revert to the immediate previous board state\n",
        "        if self.current_board.history:\n",
        "            parent_board = self.current_board.history[-1]\n",
        "            possible_boards = [b for b in possible_boards if b.board != parent_board]\n",
        "        if not possible_boards:\n",
        "            self.value = self.current_board.evaluate()\n",
        "        else:\n",
        "          # Create a new SearchTreeNode for each possible move\n",
        "            for board in possible_boards:\n",
        "                next_player = other(self.move_for)\n",
        "                child = SearchTreeNode(board, next_player, ply=self.ply_depth+1, max_depth=self.max_depth, verbose=self.verbose, verbose_threshold=self.verbose_threshold)\n",
        "                self.children.append(child)\n",
        "                 # Sort children so that the most promising moves are examined first.\n",
        "            self.children.sort(key=lambda child: child.current_board.evaluate(), reverse=(self.move_for==\"w\"))\n",
        "\n",
        "    def min_max_value(self):\n",
        "      if self.value_is_assigned:\n",
        "        return self.value\n",
        "\n",
        "      self.children  = sorted(self.children, key = lambda x:x.min_max_value())\n",
        "\n",
        "      if ((self.ply_depth % 2) == 0):\n",
        "        # computers move\n",
        "        self.value = self.children[-1].value\n",
        "      else:\n",
        "        #players move\n",
        "        self.value = self.children[0].value\n",
        "      self.value_is_assigned = True\n",
        "\n",
        "      return self.value\n",
        "        # Implements the alpha-beta pruning algorithm.\n",
        "        # This recursively evaluates children nodes while cutting back branches that won't affect the outcome\n",
        "    def alpha_beta(self, alpha=-float(\"inf\"), beta=float(\"inf\")):\n",
        "        if self.value is not None:\n",
        "            return self.value\n",
        "        if self.move_for == \"w\":\n",
        "            value = -float(\"inf\")\n",
        "            for child in self.children:\n",
        "                value = max(value, child.alpha_beta(alpha, beta))\n",
        "                alpha = max(alpha, value)\n",
        "                if beta <= alpha:\n",
        "                    break\n",
        "            self.value = value\n",
        "        else:\n",
        "            value = float(\"inf\")\n",
        "            for child in self.children:\n",
        "                value = min(value, child.alpha_beta(alpha, beta))\n",
        "                beta = min(beta, value)\n",
        "                if beta <= alpha:\n",
        "                    break\n",
        "            self.value = value\n",
        "        return self.value\n"
      ],
      "metadata": {
        "id": "VOIJ_J49TVWE"
      },
      "execution_count": 159,
      "outputs": []
    },
    {
      "cell_type": "code",
      "source": [
        "st= SearchTreeNode(cb, \"w\", max_depth=6, verbose=True)"
      ],
      "metadata": {
        "id": "2T7_gCRaoTHZ"
      },
      "execution_count": 160,
      "outputs": []
    },
    {
      "cell_type": "code",
      "source": [
        "st.children[1].children[2].children[1].children[2].children[1].value"
      ],
      "metadata": {
        "id": "LDsAebyjkDBC"
      },
      "execution_count": 161,
      "outputs": []
    },
    {
      "cell_type": "code",
      "source": [
        "st.min_max_value()"
      ],
      "metadata": {
        "colab": {
          "base_uri": "https://localhost:8080/"
        },
        "id": "olKZ0eWqkTPl",
        "outputId": "c6e58861-d474-4e07-d866-529ce6777159"
      },
      "execution_count": 162,
      "outputs": [
        {
          "output_type": "execute_result",
          "data": {
            "text/plain": [
              "-274.2"
            ]
          },
          "metadata": {},
          "execution_count": 162
        }
      ]
    },
    {
      "cell_type": "code",
      "source": [],
      "metadata": {
        "id": "BiYms8eqqYCy"
      },
      "execution_count": null,
      "outputs": []
    },
    {
      "cell_type": "markdown",
      "source": [
        "# Play Game function"
      ],
      "metadata": {
        "id": "42wBZk-MqAnC"
      }
    },
    {
      "cell_type": "markdown",
      "source": [
        "computer vs computer game"
      ],
      "metadata": {
        "id": "aA1GfnYhqSo8"
      }
    },
    {
      "cell_type": "code",
      "source": [
        "def play_computer_vs_computer():\n",
        "    current_board = CurrentBoard()\n",
        "    player1 = \"w\"\n",
        "    player2 = \"b\"\n",
        "    current_turn = player1\n",
        "    move_count = 0\n",
        "\n",
        "    #runs until the game is over or move limit is reached.\n",
        "    while current_board.state_of_board() == \"Unfinished\" and move_count < 50:\n",
        "        print(f\"\\nMove {move_count}, turn: {current_turn}\")\n",
        "        current_board.display()\n",
        "        # Build the search tree from the current board state with a given maximum depth.\n",
        "        search_tree = SearchTreeNode(current_board, current_turn, max_depth=6, verbose=False)\n",
        "        best_value = search_tree.min_max_value()\n",
        "\n",
        "        current_board = search_tree.children[-1].current_board\n",
        "        current_turn = other(current_turn)\n",
        "        move_count += 1\n",
        "\n",
        "     #final board and outcome.\n",
        "    current_board.display()\n",
        "    final_state = current_board.state_of_board()\n",
        "    if final_state == \"white\":\n",
        "        print(\"White wins!\")\n",
        "    elif final_state == \"black\":\n",
        "        print(\"Black wins!\")\n",
        "    else:\n",
        "        print(\"Game over!\")\n"
      ],
      "metadata": {
        "id": "pcNcorxqsF_T"
      },
      "execution_count": 164,
      "outputs": []
    },
    {
      "cell_type": "code",
      "source": [
        "cb = CurrentBoard()\n",
        "cb.display()\n",
        "\n"
      ],
      "metadata": {
        "colab": {
          "base_uri": "https://localhost:8080/"
        },
        "id": "LIg4ZTYWHbEL",
        "outputId": "d5b6600d-fb04-488b-c670-6a2e67e14fcc"
      },
      "execution_count": 165,
      "outputs": [
        {
          "output_type": "stream",
          "name": "stdout",
          "text": [
            "   a b c d e f g h\n",
            "0    .   .   .   .\n",
            "1  .   .   .   .  \n",
            "2    .   .   .   .\n",
            "3  W   .   B   .  \n",
            "4    .   .   .   .\n",
            "5  .   .   b   .  \n",
            "6    .   .   .   .\n",
            "7  .   .   .   .  \n",
            "\n"
          ]
        }
      ]
    },
    {
      "cell_type": "code",
      "source": [
        "if __name__ == \"__main__\":\n",
        "    play_computer_vs_computer()\n"
      ],
      "metadata": {
        "colab": {
          "base_uri": "https://localhost:8080/"
        },
        "id": "_WtHEGqYuJAn",
        "outputId": "36e53f01-3e35-476f-a577-89d40c3c6d7d"
      },
      "execution_count": 166,
      "outputs": [
        {
          "output_type": "stream",
          "name": "stdout",
          "text": [
            "\n",
            "Move 0, turn: w\n",
            "   a b c d e f g h\n",
            "0    .   .   .   .\n",
            "1  .   .   .   .  \n",
            "2    .   .   .   .\n",
            "3  W   .   B   .  \n",
            "4    .   .   .   .\n",
            "5  .   .   b   .  \n",
            "6    .   .   .   .\n",
            "7  .   .   .   .  \n",
            "\n",
            "\n",
            "Move 1, turn: b\n",
            "   a b c d e f g h\n",
            "0    .   .   .   .\n",
            "1  .   .   .   .  \n",
            "2    W   .   .   .\n",
            "3  .   .   B   .  \n",
            "4    .   .   .   .\n",
            "5  .   .   b   .  \n",
            "6    .   .   .   .\n",
            "7  .   .   .   .  \n",
            "\n",
            "\n",
            "Move 2, turn: w\n",
            "   a b c d e f g h\n",
            "0    .   .   .   .\n",
            "1  .   .   .   .  \n",
            "2    W   .   .   .\n",
            "3  .   .   .   .  \n",
            "4    .   .   B   .\n",
            "5  .   .   b   .  \n",
            "6    .   .   .   .\n",
            "7  .   .   .   .  \n",
            "\n",
            "\n",
            "Move 3, turn: b\n",
            "   a b c d e f g h\n",
            "0    .   .   .   .\n",
            "1  .   .   .   .  \n",
            "2    .   .   .   .\n",
            "3  .   W   .   .  \n",
            "4    .   .   B   .\n",
            "5  .   .   b   .  \n",
            "6    .   .   .   .\n",
            "7  .   .   .   .  \n",
            "\n",
            "\n",
            "Move 4, turn: w\n",
            "   a b c d e f g h\n",
            "0    .   .   .   .\n",
            "1  .   .   .   .  \n",
            "2    .   .   .   .\n",
            "3  .   W   .   .  \n",
            "4    .   .   .   .\n",
            "5  .   .   b   B  \n",
            "6    .   .   .   .\n",
            "7  .   .   .   .  \n",
            "\n",
            "\n",
            "Move 5, turn: b\n",
            "   a b c d e f g h\n",
            "0    .   .   .   .\n",
            "1  .   .   .   .  \n",
            "2    .   W   .   .\n",
            "3  .   .   .   .  \n",
            "4    .   .   .   .\n",
            "5  .   .   b   B  \n",
            "6    .   .   .   .\n",
            "7  .   .   .   .  \n",
            "\n",
            "\n",
            "Move 6, turn: w\n",
            "   a b c d e f g h\n",
            "0    .   .   .   .\n",
            "1  .   .   .   .  \n",
            "2    .   W   .   .\n",
            "3  .   .   .   .  \n",
            "4    .   .   .   .\n",
            "5  .   .   .   B  \n",
            "6    .   b   .   .\n",
            "7  .   .   .   .  \n",
            "\n",
            "\n",
            "Move 7, turn: b\n",
            "   a b c d e f g h\n",
            "0    .   .   .   .\n",
            "1  .   .   .   .  \n",
            "2    .   .   .   .\n",
            "3  .   W   .   .  \n",
            "4    .   .   .   .\n",
            "5  .   .   .   B  \n",
            "6    .   b   .   .\n",
            "7  .   .   .   .  \n",
            "\n",
            "\n",
            "Move 8, turn: w\n",
            "   a b c d e f g h\n",
            "0    .   .   .   .\n",
            "1  .   .   .   .  \n",
            "2    .   .   .   .\n",
            "3  .   W   .   .  \n",
            "4    .   .   .   .\n",
            "5  .   .   .   .  \n",
            "6    .   b   B   .\n",
            "7  .   .   .   .  \n",
            "\n",
            "\n",
            "Move 9, turn: b\n",
            "   a b c d e f g h\n",
            "0    .   .   .   .\n",
            "1  .   .   .   .  \n",
            "2    .   W   .   .\n",
            "3  .   .   .   .  \n",
            "4    .   .   .   .\n",
            "5  .   .   .   .  \n",
            "6    .   b   B   .\n",
            "7  .   .   .   .  \n",
            "\n",
            "\n",
            "Move 10, turn: w\n",
            "   a b c d e f g h\n",
            "0    .   .   .   .\n",
            "1  .   .   .   .  \n",
            "2    .   W   .   .\n",
            "3  .   .   .   .  \n",
            "4    .   .   .   .\n",
            "5  .   .   B   .  \n",
            "6    .   b   .   .\n",
            "7  .   .   .   .  \n",
            "\n",
            "\n",
            "Move 11, turn: b\n",
            "   a b c d e f g h\n",
            "0    .   .   .   .\n",
            "1  .   .   .   .  \n",
            "2    .   .   .   .\n",
            "3  .   W   .   .  \n",
            "4    .   .   .   .\n",
            "5  .   .   B   .  \n",
            "6    .   b   .   .\n",
            "7  .   .   .   .  \n",
            "\n",
            "\n",
            "Move 12, turn: w\n",
            "   a b c d e f g h\n",
            "0    .   .   .   .\n",
            "1  .   .   .   .  \n",
            "2    .   .   .   .\n",
            "3  .   W   .   .  \n",
            "4    .   .   B   .\n",
            "5  .   .   .   .  \n",
            "6    .   b   .   .\n",
            "7  .   .   .   .  \n",
            "\n",
            "\n",
            "Move 13, turn: b\n",
            "   a b c d e f g h\n",
            "0    .   .   .   .\n",
            "1  .   .   .   .  \n",
            "2    .   W   .   .\n",
            "3  .   .   .   .  \n",
            "4    .   .   B   .\n",
            "5  .   .   .   .  \n",
            "6    .   b   .   .\n",
            "7  .   .   .   .  \n",
            "\n",
            "\n",
            "Move 14, turn: w\n",
            "   a b c d e f g h\n",
            "0    .   .   .   .\n",
            "1  .   .   .   .  \n",
            "2    .   W   .   .\n",
            "3  .   .   B   .  \n",
            "4    .   .   .   .\n",
            "5  .   .   .   .  \n",
            "6    .   b   .   .\n",
            "7  .   .   .   .  \n",
            "\n",
            "\n",
            "Move 15, turn: b\n",
            "   a b c d e f g h\n",
            "0    .   .   .   .\n",
            "1  .   .   .   .  \n",
            "2    .   .   .   .\n",
            "3  .   .   .   .  \n",
            "4    .   .   W   .\n",
            "5  .   .   .   .  \n",
            "6    .   b   .   .\n",
            "7  .   .   .   .  \n",
            "\n",
            "\n",
            "Move 16, turn: w\n",
            "   a b c d e f g h\n",
            "0    .   .   .   .\n",
            "1  .   .   .   .  \n",
            "2    .   .   .   .\n",
            "3  .   .   .   .  \n",
            "4    .   .   W   .\n",
            "5  .   .   .   .  \n",
            "6    .   .   .   .\n",
            "7  .   .   B   .  \n",
            "\n",
            "\n",
            "Move 17, turn: b\n",
            "   a b c d e f g h\n",
            "0    .   .   .   .\n",
            "1  .   .   .   .  \n",
            "2    .   .   .   .\n",
            "3  .   .   .   .  \n",
            "4    .   .   .   .\n",
            "5  .   .   W   .  \n",
            "6    .   .   .   .\n",
            "7  .   .   B   .  \n",
            "\n",
            "\n",
            "Move 18, turn: w\n",
            "   a b c d e f g h\n",
            "0    .   .   .   .\n",
            "1  .   .   .   .  \n",
            "2    .   .   .   .\n",
            "3  .   .   .   .  \n",
            "4    .   .   .   .\n",
            "5  .   .   W   .  \n",
            "6    .   .   B   .\n",
            "7  .   .   .   .  \n",
            "\n",
            "   a b c d e f g h\n",
            "0    .   .   .   .\n",
            "1  .   .   .   .  \n",
            "2    .   .   .   .\n",
            "3  .   .   .   .  \n",
            "4    .   .   .   .\n",
            "5  .   .   .   .  \n",
            "6    .   .   .   .\n",
            "7  .   .   .   W  \n",
            "\n",
            "White wins!\n"
          ]
        }
      ]
    },
    {
      "cell_type": "markdown",
      "source": [
        "##Evaluation"
      ],
      "metadata": {
        "id": "0Hg5q3fWqdm0"
      }
    },
    {
      "cell_type": "markdown",
      "source": [
        "This game works and demonstrates the searchtree and evaluation functions well. However, the evaluation function isn't perfect and still has room for improvement. By carefully adjusting its parameters and heuristic values, we could achieve better balance and optimization. Fine-tuning these elements would help the algorithm more accurately capture subtle game dynamics, leading to more strategic, engaging, and realistic gameplay."
      ],
      "metadata": {
        "id": "nLrArUAFqhuM"
      }
    }
  ]
}